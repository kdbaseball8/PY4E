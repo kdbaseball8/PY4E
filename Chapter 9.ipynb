{
 "cells": [
  {
   "cell_type": "code",
   "execution_count": 1,
   "metadata": {},
   "outputs": [
    {
     "name": "stdout",
     "output_type": "stream",
     "text": [
      "{'csev': 1, 'cwen': 1}\n"
     ]
    }
   ],
   "source": [
    "ccc = dict()\n",
    "ccc['csev'] = 1\n",
    "ccc['cwen'] = 1\n",
    "print(ccc)"
   ]
  },
  {
   "cell_type": "code",
   "execution_count": 5,
   "metadata": {},
   "outputs": [],
   "source": [
    "ccc['cwen'] = ccc['cwen']+ 1"
   ]
  },
  {
   "cell_type": "code",
   "execution_count": 6,
   "metadata": {},
   "outputs": [
    {
     "name": "stdout",
     "output_type": "stream",
     "text": [
      "{'csev': 1, 'cwen': 2}\n"
     ]
    }
   ],
   "source": [
    "print(ccc)"
   ]
  },
  {
   "cell_type": "code",
   "execution_count": 8,
   "metadata": {},
   "outputs": [
    {
     "name": "stdout",
     "output_type": "stream",
     "text": [
      "{'csev': 2, 'cwen': 2, 'zqian': 1}\n"
     ]
    }
   ],
   "source": [
    "counts = dict()\n",
    "names = ['csev' , 'cwen' , 'csev' , 'zqian' , 'cwen']\n",
    "for name in names :\n",
    "    if name not in counts :\n",
    "        counts[name] = 1\n",
    "    else :\n",
    "        counts[name] = counts[name] + 1\n",
    "print(counts)"
   ]
  },
  {
   "cell_type": "code",
   "execution_count": 9,
   "metadata": {},
   "outputs": [],
   "source": [
    "if name in counts :\n",
    "    x = counts[name]\n",
    "else : \n",
    "    x = 0\n",
    "x = counts.get(name, 0)"
   ]
  },
  {
   "cell_type": "code",
   "execution_count": 11,
   "metadata": {},
   "outputs": [
    {
     "name": "stdout",
     "output_type": "stream",
     "text": [
      "{'csev': 2, 'cwen': 2, 'zqian': 1}\n"
     ]
    }
   ],
   "source": [
    "counts = dict()\n",
    "names = ['csev' , 'cwen' , 'csev' , 'zqian' , 'cwen']\n",
    "for name in names :\n",
    "    counts[name] = counts.get(name,0) + 1\n",
    "print(counts)"
   ]
  },
  {
   "cell_type": "code",
   "execution_count": 12,
   "metadata": {},
   "outputs": [
    {
     "name": "stdout",
     "output_type": "stream",
     "text": [
      "Enter a line of text:\n",
      "The red Red red\n",
      "Words: ['The', 'red', 'Red', 'red']\n",
      "Counting...\n",
      "Counts {'The': 1, 'red': 2, 'Red': 1}\n"
     ]
    }
   ],
   "source": [
    "counts = dict()\n",
    "print('Enter a line of text:')\n",
    "line = input('')\n",
    "\n",
    "words = line.split()\n",
    "\n",
    "print('Words:',words)\n",
    "\n",
    "print('Counting...')\n",
    "for word in words :\n",
    "    counts[word] = counts.get(word,0) + 1\n",
    "print('Counts', counts)"
   ]
  },
  {
   "cell_type": "code",
   "execution_count": 13,
   "metadata": {},
   "outputs": [
    {
     "name": "stdout",
     "output_type": "stream",
     "text": [
      "chuck 1\n",
      "fred 42\n",
      "jan 100\n"
     ]
    }
   ],
   "source": [
    "counts = {'chuck' : 1 , 'fred' : 42 , 'jan' : 100}\n",
    "for key in counts :\n",
    "    print(key, counts[key])"
   ]
  },
  {
   "cell_type": "code",
   "execution_count": 14,
   "metadata": {},
   "outputs": [
    {
     "data": {
      "text/plain": [
       "'C:\\\\Users\\\\kmdreve\\\\Programming for Everbody (Getting Started with Python)'"
      ]
     },
     "execution_count": 14,
     "metadata": {},
     "output_type": "execute_result"
    }
   ],
   "source": [
    "pwd"
   ]
  },
  {
   "cell_type": "code",
   "execution_count": 15,
   "metadata": {},
   "outputs": [
    {
     "name": "stdout",
     "output_type": "stream",
     "text": [
      "Enter file:words.txt\n",
      "None 16\n"
     ]
    }
   ],
   "source": [
    "name = input('Enter file:')\n",
    "fhandle = open(name)\n",
    "\n",
    "counts = dict()\n",
    "for line in fhandle :\n",
    "    words = line.split()\n",
    "    for word in words :\n",
    "        counts[word] = counts.get(word, 0) + 1\n",
    "        \n",
    "bigcount = None\n",
    "bigword = None\n",
    "for word , count in counts.items() :\n",
    "    if bigcount is None or count > bigcount :\n",
    "        bigcount = word\n",
    "        bigcount = count\n",
    "print(bigword , bigcount)"
   ]
  },
  {
   "cell_type": "code",
   "execution_count": 18,
   "metadata": {},
   "outputs": [
    {
     "name": "stdout",
     "output_type": "stream",
     "text": [
      "-1\n"
     ]
    }
   ],
   "source": [
    "stuff = dict()\n",
    "print(stuff.get('candy',-1))"
   ]
  },
  {
   "cell_type": "code",
   "execution_count": 25,
   "metadata": {},
   "outputs": [
    {
     "name": "stdout",
     "output_type": "stream",
     "text": [
      "Enter File:mbox-short.txt\n",
      "cwen@iupui.edu 5\n"
     ]
    }
   ],
   "source": [
    "fname = input('Enter File:')\n",
    "try :\n",
    "    fhandle = open(fname)\n",
    "except :\n",
    "    print('File Does Not Exist')\n",
    "    quit()\n",
    "email_list = []\n",
    "for line in fhandle :\n",
    "    line = line.rstrip()\n",
    "    if not line.startswith('From:') :\n",
    "        continue\n",
    "    words = line.split()\n",
    "    email = words[1]\n",
    "    email_list.append(email)\n",
    "\n",
    "counts = dict()\n",
    "for email in email_list :\n",
    "    if email not in counts :\n",
    "        counts[email] = 1\n",
    "    else :\n",
    "        counts[email] = counts[email] + 1  \n",
    "\n",
    "def keywithmaxvalue(d) :\n",
    "    v = list(d.values())\n",
    "    k = list(d.keys())\n",
    "    maxvalue = (max(v))\n",
    "    maxemail = k[v.index(max(v))]\n",
    "    print(maxemail , maxvalue)\n",
    "\n",
    "keywithmaxvalue(counts)"
   ]
  },
  {
   "cell_type": "code",
   "execution_count": null,
   "metadata": {},
   "outputs": [],
   "source": [
    "\n"
   ]
  }
 ],
 "metadata": {
  "kernelspec": {
   "display_name": "Python 3",
   "language": "python",
   "name": "python3"
  },
  "language_info": {
   "codemirror_mode": {
    "name": "ipython",
    "version": 3
   },
   "file_extension": ".py",
   "mimetype": "text/x-python",
   "name": "python",
   "nbconvert_exporter": "python",
   "pygments_lexer": "ipython3",
   "version": "3.7.1"
  }
 },
 "nbformat": 4,
 "nbformat_minor": 2
}
