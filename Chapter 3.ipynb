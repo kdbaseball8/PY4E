{
 "cells": [
  {
   "cell_type": "code",
   "execution_count": 1,
   "metadata": {},
   "outputs": [
    {
     "data": {
      "text/plain": [
       "2"
      ]
     },
     "execution_count": 1,
     "metadata": {},
     "output_type": "execute_result"
    }
   ],
   "source": [
    "8%3"
   ]
  },
  {
   "cell_type": "code",
   "execution_count": 2,
   "metadata": {},
   "outputs": [],
   "source": [
    "xx=2"
   ]
  },
  {
   "cell_type": "code",
   "execution_count": 3,
   "metadata": {},
   "outputs": [],
   "source": [
    "xx = xx + 2"
   ]
  },
  {
   "cell_type": "code",
   "execution_count": 4,
   "metadata": {},
   "outputs": [],
   "source": [
    "yy = 440 * 12"
   ]
  },
  {
   "cell_type": "code",
   "execution_count": 5,
   "metadata": {},
   "outputs": [
    {
     "name": "stdout",
     "output_type": "stream",
     "text": [
      "5280\n"
     ]
    }
   ],
   "source": [
    "print(yy)"
   ]
  },
  {
   "cell_type": "code",
   "execution_count": 7,
   "metadata": {},
   "outputs": [],
   "source": [
    "jj = None"
   ]
  },
  {
   "cell_type": "code",
   "execution_count": 9,
   "metadata": {},
   "outputs": [],
   "source": [
    "x=2"
   ]
  },
  {
   "cell_type": "code",
   "execution_count": 10,
   "metadata": {},
   "outputs": [
    {
     "data": {
      "text/plain": [
       "'Hello there'"
      ]
     },
     "execution_count": 10,
     "metadata": {},
     "output_type": "execute_result"
    }
   ],
   "source": [
    "\"Hello \" + 'there'"
   ]
  },
  {
   "cell_type": "code",
   "execution_count": 11,
   "metadata": {},
   "outputs": [
    {
     "data": {
      "text/plain": [
       "NoneType"
      ]
     },
     "execution_count": 11,
     "metadata": {},
     "output_type": "execute_result"
    }
   ],
   "source": [
    "type (jj)"
   ]
  },
  {
   "cell_type": "code",
   "execution_count": 12,
   "metadata": {},
   "outputs": [
    {
     "data": {
      "text/plain": [
       "int"
      ]
     },
     "execution_count": 12,
     "metadata": {},
     "output_type": "execute_result"
    }
   ],
   "source": [
    "type(1)"
   ]
  },
  {
   "cell_type": "code",
   "execution_count": 13,
   "metadata": {},
   "outputs": [
    {
     "data": {
      "text/plain": [
       "float"
      ]
     },
     "execution_count": 13,
     "metadata": {},
     "output_type": "execute_result"
    }
   ],
   "source": [
    "type(1.4)"
   ]
  },
  {
   "cell_type": "code",
   "execution_count": 14,
   "metadata": {},
   "outputs": [
    {
     "data": {
      "text/plain": [
       "int"
      ]
     },
     "execution_count": 14,
     "metadata": {},
     "output_type": "execute_result"
    }
   ],
   "source": [
    "type(x)"
   ]
  },
  {
   "cell_type": "code",
   "execution_count": 16,
   "metadata": {},
   "outputs": [
    {
     "data": {
      "text/plain": [
       "int"
      ]
     },
     "execution_count": 16,
     "metadata": {},
     "output_type": "execute_result"
    }
   ],
   "source": [
    "type (4)"
   ]
  },
  {
   "cell_type": "code",
   "execution_count": 17,
   "metadata": {},
   "outputs": [
    {
     "name": "stdout",
     "output_type": "stream",
     "text": [
      "199.0\n"
     ]
    }
   ],
   "source": [
    "print (float(99)+100)"
   ]
  },
  {
   "cell_type": "code",
   "execution_count": 18,
   "metadata": {},
   "outputs": [
    {
     "data": {
      "text/plain": [
       "199"
      ]
     },
     "execution_count": 18,
     "metadata": {},
     "output_type": "execute_result"
    }
   ],
   "source": [
    "int(199.0)"
   ]
  },
  {
   "cell_type": "code",
   "execution_count": 19,
   "metadata": {},
   "outputs": [
    {
     "data": {
      "text/plain": [
       "4.5"
      ]
     },
     "execution_count": 19,
     "metadata": {},
     "output_type": "execute_result"
    }
   ],
   "source": [
    "9/2"
   ]
  },
  {
   "cell_type": "code",
   "execution_count": 20,
   "metadata": {},
   "outputs": [
    {
     "data": {
      "text/plain": [
       "0.99"
      ]
     },
     "execution_count": 20,
     "metadata": {},
     "output_type": "execute_result"
    }
   ],
   "source": [
    "99/100"
   ]
  },
  {
   "cell_type": "code",
   "execution_count": 21,
   "metadata": {},
   "outputs": [
    {
     "data": {
      "text/plain": [
       "5.0"
      ]
     },
     "execution_count": 21,
     "metadata": {},
     "output_type": "execute_result"
    }
   ],
   "source": [
    "10.0/2"
   ]
  },
  {
   "cell_type": "code",
   "execution_count": 22,
   "metadata": {},
   "outputs": [],
   "source": [
    "sval = '123'"
   ]
  },
  {
   "cell_type": "code",
   "execution_count": 23,
   "metadata": {},
   "outputs": [
    {
     "data": {
      "text/plain": [
       "str"
      ]
     },
     "execution_count": 23,
     "metadata": {},
     "output_type": "execute_result"
    }
   ],
   "source": [
    "type(sval)"
   ]
  },
  {
   "cell_type": "code",
   "execution_count": 24,
   "metadata": {},
   "outputs": [],
   "source": [
    "sval = int(sval)"
   ]
  },
  {
   "cell_type": "code",
   "execution_count": 25,
   "metadata": {},
   "outputs": [
    {
     "data": {
      "text/plain": [
       "int"
      ]
     },
     "execution_count": 25,
     "metadata": {},
     "output_type": "execute_result"
    }
   ],
   "source": [
    "type(sval)"
   ]
  },
  {
   "cell_type": "code",
   "execution_count": 26,
   "metadata": {},
   "outputs": [
    {
     "name": "stdout",
     "output_type": "stream",
     "text": [
      "124\n"
     ]
    }
   ],
   "source": [
    "print(sval+1)"
   ]
  },
  {
   "cell_type": "code",
   "execution_count": 27,
   "metadata": {},
   "outputs": [
    {
     "name": "stdout",
     "output_type": "stream",
     "text": [
      "Who are you?Kevin\n",
      "Welcome Kevin\n"
     ]
    }
   ],
   "source": [
    "name = input('Who are you?')\n",
    "print('Welcome', name)"
   ]
  },
  {
   "cell_type": "code",
   "execution_count": 28,
   "metadata": {},
   "outputs": [
    {
     "data": {
      "text/plain": [
       "'C:\\\\Users\\\\kmdreve\\\\Programming for Everbody (Getting Started with Python)'"
      ]
     },
     "execution_count": 28,
     "metadata": {},
     "output_type": "execute_result"
    }
   ],
   "source": [
    "pwd\n"
   ]
  },
  {
   "cell_type": "code",
   "execution_count": 29,
   "metadata": {},
   "outputs": [
    {
     "name": "stdout",
     "output_type": "stream",
     "text": [
      "European Floors3\n",
      "American Floors 4\n"
     ]
    }
   ],
   "source": [
    "# Convert elevtor floors from European to American\n",
    "inp = input('European Floors')\n",
    "usf = int(inp) + 1\n",
    "print('American Floors', usf)"
   ]
  },
  {
   "cell_type": "code",
   "execution_count": 30,
   "metadata": {},
   "outputs": [
    {
     "data": {
      "text/plain": [
       "98"
      ]
     },
     "execution_count": 30,
     "metadata": {},
     "output_type": "execute_result"
    }
   ],
   "source": [
    "int(98.6)"
   ]
  },
  {
   "cell_type": "code",
   "execution_count": 34,
   "metadata": {},
   "outputs": [
    {
     "name": "stdout",
     "output_type": "stream",
     "text": [
      "Enter Hours:35\n",
      "Enter pay per hour:2.75\n",
      "pay: 96.25\n"
     ]
    }
   ],
   "source": [
    "hrs = input('Enter Hours:')\n",
    "pay = input('Enter pay per hour:')\n",
    "hrs = float(hrs)\n",
    "pay = float(pay)\n",
    "total = hrs * pay\n",
    "print('pay:', total)"
   ]
  },
  {
   "cell_type": "code",
   "execution_count": 3,
   "metadata": {},
   "outputs": [
    {
     "name": "stdout",
     "output_type": "stream",
     "text": [
      "0\n",
      "1\n",
      "2\n",
      "3\n",
      "4\n",
      "5\n",
      "6\n",
      "7\n",
      "8\n",
      "9\n",
      "10\n",
      "11\n",
      "12\n",
      "13\n",
      "14\n",
      "15\n",
      "16\n",
      "17\n",
      "18\n",
      "19\n",
      "20\n",
      "21\n",
      "22\n",
      "23\n",
      "24\n",
      "25\n",
      "26\n",
      "27\n",
      "28\n",
      "29\n",
      "30\n",
      "31\n",
      "32\n",
      "33\n",
      "34\n",
      "35\n",
      "36\n",
      "37\n",
      "38\n",
      "39\n",
      "40\n",
      "41\n",
      "42\n",
      "43\n",
      "44\n",
      "45\n",
      "46\n",
      "47\n",
      "48\n",
      "49\n",
      "50\n",
      "51\n",
      "Bigger than 2\n",
      "Done with i 51\n",
      "52\n",
      "Bigger than 2\n",
      "Done with i 52\n",
      "53\n",
      "Bigger than 2\n",
      "Done with i 53\n",
      "54\n",
      "Bigger than 2\n",
      "Done with i 54\n",
      "55\n",
      "Bigger than 2\n",
      "Done with i 55\n",
      "56\n",
      "Bigger than 2\n",
      "Done with i 56\n",
      "57\n",
      "Bigger than 2\n",
      "Done with i 57\n",
      "58\n",
      "Bigger than 2\n",
      "Done with i 58\n",
      "59\n",
      "Bigger than 2\n",
      "Done with i 59\n",
      "60\n",
      "Bigger than 2\n",
      "Done with i 60\n",
      "61\n",
      "Bigger than 2\n",
      "Done with i 61\n",
      "62\n",
      "Bigger than 2\n",
      "Done with i 62\n",
      "63\n",
      "Bigger than 2\n",
      "Done with i 63\n",
      "64\n",
      "Bigger than 2\n",
      "Done with i 64\n",
      "65\n",
      "Bigger than 2\n",
      "Done with i 65\n",
      "66\n",
      "Bigger than 2\n",
      "Done with i 66\n",
      "67\n",
      "Bigger than 2\n",
      "Done with i 67\n",
      "68\n",
      "Bigger than 2\n",
      "Done with i 68\n",
      "69\n",
      "Bigger than 2\n",
      "Done with i 69\n",
      "70\n",
      "Bigger than 2\n",
      "Done with i 70\n",
      "71\n",
      "Bigger than 2\n",
      "Done with i 71\n",
      "72\n",
      "Bigger than 2\n",
      "Done with i 72\n",
      "73\n",
      "Bigger than 2\n",
      "Done with i 73\n",
      "74\n",
      "Bigger than 2\n",
      "Done with i 74\n",
      "75\n",
      "Bigger than 2\n",
      "Done with i 75\n",
      "76\n",
      "Bigger than 2\n",
      "Done with i 76\n",
      "77\n",
      "Bigger than 2\n",
      "Done with i 77\n",
      "78\n",
      "Bigger than 2\n",
      "Done with i 78\n",
      "79\n",
      "Bigger than 2\n",
      "Done with i 79\n",
      "80\n",
      "Bigger than 2\n",
      "Done with i 80\n",
      "81\n",
      "Bigger than 2\n",
      "Done with i 81\n",
      "82\n",
      "Bigger than 2\n",
      "Done with i 82\n",
      "83\n",
      "Bigger than 2\n",
      "Done with i 83\n",
      "84\n",
      "Bigger than 2\n",
      "Done with i 84\n",
      "85\n",
      "Bigger than 2\n",
      "Done with i 85\n",
      "86\n",
      "Bigger than 2\n",
      "Done with i 86\n",
      "87\n",
      "Bigger than 2\n",
      "Done with i 87\n",
      "88\n",
      "Bigger than 2\n",
      "Done with i 88\n",
      "89\n",
      "Bigger than 2\n",
      "Done with i 89\n",
      "90\n",
      "Bigger than 2\n",
      "Done with i 90\n",
      "91\n",
      "Bigger than 2\n",
      "Done with i 91\n",
      "92\n",
      "Bigger than 2\n",
      "Done with i 92\n",
      "93\n",
      "Bigger than 2\n",
      "Done with i 93\n",
      "94\n",
      "Bigger than 2\n",
      "Done with i 94\n",
      "95\n",
      "Bigger than 2\n",
      "Done with i 95\n",
      "96\n",
      "Bigger than 2\n",
      "Done with i 96\n",
      "97\n",
      "Bigger than 2\n",
      "Done with i 97\n",
      "98\n",
      "Bigger than 2\n",
      "Done with i 98\n",
      "all done\n"
     ]
    }
   ],
   "source": [
    "for i in range(99):\n",
    "    print(i)\n",
    "    if i > 50:\n",
    "        print('Bigger than 2')\n",
    "        print('Done with i', i)\n",
    "print('all done')"
   ]
  },
  {
   "cell_type": "code",
   "execution_count": 8,
   "metadata": {},
   "outputs": [
    {
     "name": "stdout",
     "output_type": "stream",
     "text": [
      "medium\n",
      "all done\n"
     ]
    }
   ],
   "source": [
    "x=7\n",
    "if x < 2 :\n",
    "    print('small')\n",
    "elif x < 10 :\n",
    "    print('medium')\n",
    "else:\n",
    "    print('LARGE')\n",
    "print ('all done')"
   ]
  },
  {
   "cell_type": "code",
   "execution_count": 13,
   "metadata": {},
   "outputs": [
    {
     "name": "stdout",
     "output_type": "stream",
     "text": [
      "First -1\n",
      "Second 123\n"
     ]
    }
   ],
   "source": [
    "astr = 'Hello'\n",
    "try:\n",
    "    istr = int(astr)\n",
    "except:\n",
    "    istr = -1\n",
    "print('First', istr)\n",
    "astr = '123'\n",
    "try:\n",
    "    istr = int(astr)\n",
    "except:\n",
    "    istr = -1\n",
    "print('Second', istr)\n",
    "\n",
    "    "
   ]
  },
  {
   "cell_type": "code",
   "execution_count": 18,
   "metadata": {},
   "outputs": [
    {
     "name": "stdout",
     "output_type": "stream",
     "text": [
      "Enter a number:red\n",
      "Not a Number\n"
     ]
    }
   ],
   "source": [
    "#$ python3 trynum.py\n",
    "rawstr = input('Enter a number:')\n",
    "try:\n",
    "    ival = int(rawstr)\n",
    "except:\n",
    "    ival = -1\n",
    "if ival > 0 :\n",
    "    print('Nice Work')\n",
    "else:\n",
    "    print('Not a Number')"
   ]
  },
  {
   "cell_type": "code",
   "execution_count": 24,
   "metadata": {},
   "outputs": [
    {
     "name": "stdout",
     "output_type": "stream",
     "text": [
      "Enter Hours:5\n",
      "Enter Hourly pay:6\n",
      "30.0\n"
     ]
    }
   ],
   "source": [
    "# Enter Number of Hours Worked\n",
    "hrs = input(\"Enter Hours:\")\n",
    "try: \n",
    "    h = float(hrs)\n",
    "except:\n",
    "    print('Enter a number')\n",
    "\n",
    "# Enter Number of Hours Worked\n",
    "rate = input(\"Enter Hourly pay:\")\n",
    "try: \n",
    "    rph = float(rate)\n",
    "except:\n",
    "    print('Enter a number')\n",
    "\n",
    "# Multiply hours x rate\n",
    "\n",
    "total = h * rph\n",
    "print(total)"
   ]
  },
  {
   "cell_type": "code",
   "execution_count": 28,
   "metadata": {},
   "outputs": [
    {
     "name": "stdout",
     "output_type": "stream",
     "text": [
      "Enter Hours:50\n",
      "Enter Hourly Pay:34\n",
      "1870.0\n"
     ]
    }
   ],
   "source": [
    "# Enter Number Hours Worked\n",
    "hrs = input(\"Enter Hours:\")\n",
    "try:\n",
    "    h = float(hrs)\n",
    "except:\n",
    "    print(\"Enter a numerical number\")\n",
    "\n",
    "# Enter Rate per Hour\n",
    "rate = input(\"Enter Hourly Pay:\")\n",
    "try:\n",
    "    rph=float(rate)\n",
    "except:\n",
    "    print(\"Enter a numerical number\")\n",
    "\n",
    "# Determine overtime\n",
    "if h <=40:\n",
    "    overtime = 0\n",
    "else:\n",
    "    overtime = h - 40\n",
    "\n",
    "#Print Total\n",
    "if h <= 40:\n",
    "    total = h*rph\n",
    "else:\n",
    "    total = (40 * rph) + (overtime * rph * 1.5)\n",
    "\n",
    "print(total)"
   ]
  },
  {
   "cell_type": "code",
   "execution_count": 29,
   "metadata": {},
   "outputs": [
    {
     "name": "stdout",
     "output_type": "stream",
     "text": [
      "Enter a numerical grade between 1.0 and 0.85\n",
      "B\n"
     ]
    }
   ],
   "source": [
    "score = input(\"Enter a numerical grade between 1.0 and 0\")\n",
    "\n",
    "# Check user input for number input\n",
    "try:\n",
    "    grade = float(score)\n",
    "except:\n",
    "    print(\"enter a decimal number\")\n",
    "\n",
    "# Check user input for accuracy\n",
    "if 0 <= grade <= 1.0:\n",
    "    grade = grade\n",
    "else:\n",
    "    print(\"The number entered is not between 0 and 1\")\n",
    "if .9 <= grade <= 1:\n",
    "    print('A')\n",
    "elif .8 <= grade < .9:\n",
    "    print('B')\n",
    "elif .7 <= grade < .8:\n",
    "    print('C')\n",
    "elif .6 <= grade < .7:\n",
    "    print('D')\n",
    "else:\n",
    "    print('F')\n",
    "    \n"
   ]
  },
  {
   "cell_type": "code",
   "execution_count": null,
   "metadata": {},
   "outputs": [],
   "source": []
  }
 ],
 "metadata": {
  "kernelspec": {
   "display_name": "Python 3",
   "language": "python",
   "name": "python3"
  },
  "language_info": {
   "codemirror_mode": {
    "name": "ipython",
    "version": 3
   },
   "file_extension": ".py",
   "mimetype": "text/x-python",
   "name": "python",
   "nbconvert_exporter": "python",
   "pygments_lexer": "ipython3",
   "version": "3.7.1"
  }
 },
 "nbformat": 4,
 "nbformat_minor": 2
}
